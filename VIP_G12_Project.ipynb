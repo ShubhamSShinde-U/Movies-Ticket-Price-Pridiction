{
  "nbformat": 4,
  "nbformat_minor": 0,
  "metadata": {
    "colab": {
      "name": "VIP_G12_Project.ipynb",
      "provenance": [],
      "collapsed_sections": [],
      "toc_visible": true,
      "include_colab_link": true
    },
    "kernelspec": {
      "display_name": "Python 3",
      "name": "python3"
    },
    "language_info": {
      "name": "python"
    }
  },
  "cells": [
    {
      "cell_type": "markdown",
      "metadata": {
        "id": "view-in-github",
        "colab_type": "text"
      },
      "source": [
        "<a href=\"https://colab.research.google.com/github/ShubhamSShinde-U/Movies-Ticket-Price-Pridiction/blob/main/VIP_G12_Project.ipynb\" target=\"_parent\"><img src=\"https://colab.research.google.com/assets/colab-badge.svg\" alt=\"Open In Colab\"/></a>"
      ]
    },
    {
      "cell_type": "markdown",
      "metadata": {
        "id": "MHcyya-7-9JG"
      },
      "source": [
        "Project Title: Movie Ticket Price  Pridiction "
      ]
    },
    {
      "cell_type": "markdown",
      "metadata": {
        "id": "EUdlLpL5eh2W"
      },
      "source": [
        "Step No. 1 : Start"
      ]
    },
    {
      "cell_type": "code",
      "metadata": {
        "id": "10WOzuyC28dl",
        "colab": {
          "base_uri": "https://localhost:8080/"
        },
        "outputId": "fd90a680-5e6f-409f-ebd1-2b7b1ec7e6a8"
      },
      "source": [
        "#Importing All necessary Libraries\n",
        "\n",
        "import numpy as np\n",
        "import matplotlib.pyplot as plt\n",
        "import pandas as pd\n",
        "\n",
        "#Now we have to import dataset \n",
        "\n",
        "path='/content/Movie ticket pricing (3).csv'\n",
        "dataset=pd.read_csv(path)\n",
        "\n",
        "#Printing dataset\n",
        "\n",
        "print(dataset)        "
      ],
      "execution_count": null,
      "outputs": [
        {
          "output_type": "stream",
          "name": "stdout",
          "text": [
            "   IMDb rating Rural Urban       Day Multiplex  Price\n",
            "0           I+   yes    no    Friday        no    100\n",
            "1           I-   yes    no    Sunday        no     70\n",
            "2           I+   yes    no     Other        no     70\n",
            "3           I-   yes    no     Other        no     50\n",
            "4           I+    no   yes  Saturday       yes    300\n",
            "5           I-    no   yes    Sunday       yes    250\n",
            "6           I+    no   yes    Friday        no    200\n",
            "7           I-    no   yes    Friday        no    150\n",
            "8           I+    no   yes     Other       yes    150\n",
            "9           I-    no   yes     Other        no    100\n",
            "10          I-    no   yes     Other        no    100\n",
            "11          I+    no   yes     Other       yes    150\n",
            "12          I-    no   yes     Other        no    150\n",
            "13          I+    no   yes     Other        no    200\n",
            "14          I-    no   yes    Sunday       yes    250\n",
            "15          I+    no   yes    Friday       yes    300\n",
            "16          I+   yes    no    Friday        no    100\n",
            "17          I-   yes    no    Sunday        no     70\n",
            "18          I+   yes    no     Other        no     70\n",
            "19          I-   yes    no     Other        no     50\n",
            "20          I+    no   yes    Sunday       yes    300\n",
            "21          I+   yes    no    Friday        no    100\n",
            "22          I-    no   yes    Sunday       yes    250\n",
            "23          I-   yes    no  Saturday        no     70\n",
            "24          I+    no   yes    Sunday        no    200\n",
            "25          I+   yes    no     Other        no     70\n",
            "26          I-    no   yes    Friday        no    150\n",
            "27          I-   yes    no     Other        no     50\n",
            "28          I+    no   yes     Other       yes    150\n",
            "29          I-    no   yes     Other        no    100\n",
            "30          I+   yes    no    Sunday        no    100\n",
            "31          I-    no   yes  Saturday        no    250\n",
            "32          I+    no   yes    Sunday       yes    300\n",
            "33          I-   yes    no     Other        no     50\n"
          ]
        }
      ]
    },
    {
      "cell_type": "markdown",
      "metadata": {
        "id": "P0giNWFdAEKJ"
      },
      "source": [
        "Step No. 2 : Head and Tail function "
      ]
    },
    {
      "cell_type": "code",
      "metadata": {
        "colab": {
          "base_uri": "https://localhost:8080/"
        },
        "id": "EcHt8Lnq3eRO",
        "outputId": "2d15eeb4-8bc9-41fa-8b2c-251dd53ffc01"
      },
      "source": [
        "#Using head function we are printing first 5 rows of data set\n",
        "\n",
        "top=dataset.head()\n",
        "print(\"The head part of dataset is \")\n",
        "print(top)\n",
        "\n",
        "#Using tail function we are printing last 5 rows of data set\n",
        "\n",
        "bot=dataset.tail()\n",
        "print(\"The tail part of dataset is \")\n",
        "print(bot)"
      ],
      "execution_count": null,
      "outputs": [
        {
          "output_type": "stream",
          "name": "stdout",
          "text": [
            "The head part of dataset is \n",
            "  IMDb rating Rural Urban       Day Multiplex  Price\n",
            "0          I+   yes    no    Friday        no    100\n",
            "1          I-   yes    no    Sunday        no     70\n",
            "2          I+   yes    no     Other        no     70\n",
            "3          I-   yes    no     Other        no     50\n",
            "4          I+    no   yes  Saturday       yes    300\n",
            "The tail part of dataset is \n",
            "   IMDb rating Rural Urban       Day Multiplex  Price\n",
            "29          I-    no   yes     Other        no    100\n",
            "30          I+   yes    no    Sunday        no    100\n",
            "31          I-    no   yes  Saturday        no    250\n",
            "32          I+    no   yes    Sunday       yes    300\n",
            "33          I-   yes    no     Other        no     50\n"
          ]
        }
      ]
    },
    {
      "cell_type": "markdown",
      "metadata": {
        "id": "pBMP480AjgsF"
      },
      "source": [
        "Step No . 3: Encoding "
      ]
    },
    {
      "cell_type": "code",
      "metadata": {
        "colab": {
          "base_uri": "https://localhost:8080/",
          "height": 1000
        },
        "id": "PSUnlTib_Nzi",
        "outputId": "4061d5a0-60ec-4ae3-e8f5-2074dfb47ac9"
      },
      "source": [
        "# Encoding of columns \n",
        "#Requried libraries are Imporded\n",
        "#two types of encoder onehot and label encoder \n",
        "#Onehot Encoder splits the column into multiple columns which is difficult to handle\n",
        "\n",
        "\n",
        "from sklearn.compose import ColumnTransformer\n",
        "from sklearn.preprocessing import LabelEncoder\n",
        "\n",
        "le=LabelEncoder()\n",
        "dataset['Rural']=le.fit_transform(dataset['Rural'])\n",
        "dataset['Urban']=le.fit_transform(dataset['Urban'])\n",
        "dataset['Day']=le.fit_transform(dataset['Day'])\n",
        "dataset['Multiplex']=le.fit_transform(dataset['Multiplex'])\n",
        "dataset['IMDb rating']=le.fit_transform(dataset['IMDb rating'])\n",
        "dataset"
      ],
      "execution_count": null,
      "outputs": [
        {
          "output_type": "execute_result",
          "data": {
            "text/plain": [
              "    IMDb rating  Rural  Urban  Day  Multiplex  Price\n",
              "0             0      1      0    0          0    100\n",
              "1             1      1      0    3          0     70\n",
              "2             0      1      0    1          0     70\n",
              "3             1      1      0    1          0     50\n",
              "4             0      0      1    2          1    300\n",
              "5             1      0      1    3          1    250\n",
              "6             0      0      1    0          0    200\n",
              "7             1      0      1    0          0    150\n",
              "8             0      0      1    1          1    150\n",
              "9             1      0      1    1          0    100\n",
              "10            1      0      1    1          0    100\n",
              "11            0      0      1    1          1    150\n",
              "12            1      0      1    1          0    150\n",
              "13            0      0      1    1          0    200\n",
              "14            1      0      1    3          1    250\n",
              "15            0      0      1    0          1    300\n",
              "16            0      1      0    0          0    100\n",
              "17            1      1      0    3          0     70\n",
              "18            0      1      0    1          0     70\n",
              "19            1      1      0    1          0     50\n",
              "20            0      0      1    3          1    300\n",
              "21            0      1      0    0          0    100\n",
              "22            1      0      1    3          1    250\n",
              "23            1      1      0    2          0     70\n",
              "24            0      0      1    3          0    200\n",
              "25            0      1      0    1          0     70\n",
              "26            1      0      1    0          0    150\n",
              "27            1      1      0    1          0     50\n",
              "28            0      0      1    1          1    150\n",
              "29            1      0      1    1          0    100\n",
              "30            0      1      0    3          0    100\n",
              "31            1      0      1    2          0    250\n",
              "32            0      0      1    3          1    300\n",
              "33            1      1      0    1          0     50"
            ],
            "text/html": [
              "\n",
              "  <div id=\"df-05f0d7bf-e9cc-46d3-a2cc-8aed4bc7aae8\">\n",
              "    <div class=\"colab-df-container\">\n",
              "      <div>\n",
              "<style scoped>\n",
              "    .dataframe tbody tr th:only-of-type {\n",
              "        vertical-align: middle;\n",
              "    }\n",
              "\n",
              "    .dataframe tbody tr th {\n",
              "        vertical-align: top;\n",
              "    }\n",
              "\n",
              "    .dataframe thead th {\n",
              "        text-align: right;\n",
              "    }\n",
              "</style>\n",
              "<table border=\"1\" class=\"dataframe\">\n",
              "  <thead>\n",
              "    <tr style=\"text-align: right;\">\n",
              "      <th></th>\n",
              "      <th>IMDb rating</th>\n",
              "      <th>Rural</th>\n",
              "      <th>Urban</th>\n",
              "      <th>Day</th>\n",
              "      <th>Multiplex</th>\n",
              "      <th>Price</th>\n",
              "    </tr>\n",
              "  </thead>\n",
              "  <tbody>\n",
              "    <tr>\n",
              "      <th>0</th>\n",
              "      <td>0</td>\n",
              "      <td>1</td>\n",
              "      <td>0</td>\n",
              "      <td>0</td>\n",
              "      <td>0</td>\n",
              "      <td>100</td>\n",
              "    </tr>\n",
              "    <tr>\n",
              "      <th>1</th>\n",
              "      <td>1</td>\n",
              "      <td>1</td>\n",
              "      <td>0</td>\n",
              "      <td>3</td>\n",
              "      <td>0</td>\n",
              "      <td>70</td>\n",
              "    </tr>\n",
              "    <tr>\n",
              "      <th>2</th>\n",
              "      <td>0</td>\n",
              "      <td>1</td>\n",
              "      <td>0</td>\n",
              "      <td>1</td>\n",
              "      <td>0</td>\n",
              "      <td>70</td>\n",
              "    </tr>\n",
              "    <tr>\n",
              "      <th>3</th>\n",
              "      <td>1</td>\n",
              "      <td>1</td>\n",
              "      <td>0</td>\n",
              "      <td>1</td>\n",
              "      <td>0</td>\n",
              "      <td>50</td>\n",
              "    </tr>\n",
              "    <tr>\n",
              "      <th>4</th>\n",
              "      <td>0</td>\n",
              "      <td>0</td>\n",
              "      <td>1</td>\n",
              "      <td>2</td>\n",
              "      <td>1</td>\n",
              "      <td>300</td>\n",
              "    </tr>\n",
              "    <tr>\n",
              "      <th>5</th>\n",
              "      <td>1</td>\n",
              "      <td>0</td>\n",
              "      <td>1</td>\n",
              "      <td>3</td>\n",
              "      <td>1</td>\n",
              "      <td>250</td>\n",
              "    </tr>\n",
              "    <tr>\n",
              "      <th>6</th>\n",
              "      <td>0</td>\n",
              "      <td>0</td>\n",
              "      <td>1</td>\n",
              "      <td>0</td>\n",
              "      <td>0</td>\n",
              "      <td>200</td>\n",
              "    </tr>\n",
              "    <tr>\n",
              "      <th>7</th>\n",
              "      <td>1</td>\n",
              "      <td>0</td>\n",
              "      <td>1</td>\n",
              "      <td>0</td>\n",
              "      <td>0</td>\n",
              "      <td>150</td>\n",
              "    </tr>\n",
              "    <tr>\n",
              "      <th>8</th>\n",
              "      <td>0</td>\n",
              "      <td>0</td>\n",
              "      <td>1</td>\n",
              "      <td>1</td>\n",
              "      <td>1</td>\n",
              "      <td>150</td>\n",
              "    </tr>\n",
              "    <tr>\n",
              "      <th>9</th>\n",
              "      <td>1</td>\n",
              "      <td>0</td>\n",
              "      <td>1</td>\n",
              "      <td>1</td>\n",
              "      <td>0</td>\n",
              "      <td>100</td>\n",
              "    </tr>\n",
              "    <tr>\n",
              "      <th>10</th>\n",
              "      <td>1</td>\n",
              "      <td>0</td>\n",
              "      <td>1</td>\n",
              "      <td>1</td>\n",
              "      <td>0</td>\n",
              "      <td>100</td>\n",
              "    </tr>\n",
              "    <tr>\n",
              "      <th>11</th>\n",
              "      <td>0</td>\n",
              "      <td>0</td>\n",
              "      <td>1</td>\n",
              "      <td>1</td>\n",
              "      <td>1</td>\n",
              "      <td>150</td>\n",
              "    </tr>\n",
              "    <tr>\n",
              "      <th>12</th>\n",
              "      <td>1</td>\n",
              "      <td>0</td>\n",
              "      <td>1</td>\n",
              "      <td>1</td>\n",
              "      <td>0</td>\n",
              "      <td>150</td>\n",
              "    </tr>\n",
              "    <tr>\n",
              "      <th>13</th>\n",
              "      <td>0</td>\n",
              "      <td>0</td>\n",
              "      <td>1</td>\n",
              "      <td>1</td>\n",
              "      <td>0</td>\n",
              "      <td>200</td>\n",
              "    </tr>\n",
              "    <tr>\n",
              "      <th>14</th>\n",
              "      <td>1</td>\n",
              "      <td>0</td>\n",
              "      <td>1</td>\n",
              "      <td>3</td>\n",
              "      <td>1</td>\n",
              "      <td>250</td>\n",
              "    </tr>\n",
              "    <tr>\n",
              "      <th>15</th>\n",
              "      <td>0</td>\n",
              "      <td>0</td>\n",
              "      <td>1</td>\n",
              "      <td>0</td>\n",
              "      <td>1</td>\n",
              "      <td>300</td>\n",
              "    </tr>\n",
              "    <tr>\n",
              "      <th>16</th>\n",
              "      <td>0</td>\n",
              "      <td>1</td>\n",
              "      <td>0</td>\n",
              "      <td>0</td>\n",
              "      <td>0</td>\n",
              "      <td>100</td>\n",
              "    </tr>\n",
              "    <tr>\n",
              "      <th>17</th>\n",
              "      <td>1</td>\n",
              "      <td>1</td>\n",
              "      <td>0</td>\n",
              "      <td>3</td>\n",
              "      <td>0</td>\n",
              "      <td>70</td>\n",
              "    </tr>\n",
              "    <tr>\n",
              "      <th>18</th>\n",
              "      <td>0</td>\n",
              "      <td>1</td>\n",
              "      <td>0</td>\n",
              "      <td>1</td>\n",
              "      <td>0</td>\n",
              "      <td>70</td>\n",
              "    </tr>\n",
              "    <tr>\n",
              "      <th>19</th>\n",
              "      <td>1</td>\n",
              "      <td>1</td>\n",
              "      <td>0</td>\n",
              "      <td>1</td>\n",
              "      <td>0</td>\n",
              "      <td>50</td>\n",
              "    </tr>\n",
              "    <tr>\n",
              "      <th>20</th>\n",
              "      <td>0</td>\n",
              "      <td>0</td>\n",
              "      <td>1</td>\n",
              "      <td>3</td>\n",
              "      <td>1</td>\n",
              "      <td>300</td>\n",
              "    </tr>\n",
              "    <tr>\n",
              "      <th>21</th>\n",
              "      <td>0</td>\n",
              "      <td>1</td>\n",
              "      <td>0</td>\n",
              "      <td>0</td>\n",
              "      <td>0</td>\n",
              "      <td>100</td>\n",
              "    </tr>\n",
              "    <tr>\n",
              "      <th>22</th>\n",
              "      <td>1</td>\n",
              "      <td>0</td>\n",
              "      <td>1</td>\n",
              "      <td>3</td>\n",
              "      <td>1</td>\n",
              "      <td>250</td>\n",
              "    </tr>\n",
              "    <tr>\n",
              "      <th>23</th>\n",
              "      <td>1</td>\n",
              "      <td>1</td>\n",
              "      <td>0</td>\n",
              "      <td>2</td>\n",
              "      <td>0</td>\n",
              "      <td>70</td>\n",
              "    </tr>\n",
              "    <tr>\n",
              "      <th>24</th>\n",
              "      <td>0</td>\n",
              "      <td>0</td>\n",
              "      <td>1</td>\n",
              "      <td>3</td>\n",
              "      <td>0</td>\n",
              "      <td>200</td>\n",
              "    </tr>\n",
              "    <tr>\n",
              "      <th>25</th>\n",
              "      <td>0</td>\n",
              "      <td>1</td>\n",
              "      <td>0</td>\n",
              "      <td>1</td>\n",
              "      <td>0</td>\n",
              "      <td>70</td>\n",
              "    </tr>\n",
              "    <tr>\n",
              "      <th>26</th>\n",
              "      <td>1</td>\n",
              "      <td>0</td>\n",
              "      <td>1</td>\n",
              "      <td>0</td>\n",
              "      <td>0</td>\n",
              "      <td>150</td>\n",
              "    </tr>\n",
              "    <tr>\n",
              "      <th>27</th>\n",
              "      <td>1</td>\n",
              "      <td>1</td>\n",
              "      <td>0</td>\n",
              "      <td>1</td>\n",
              "      <td>0</td>\n",
              "      <td>50</td>\n",
              "    </tr>\n",
              "    <tr>\n",
              "      <th>28</th>\n",
              "      <td>0</td>\n",
              "      <td>0</td>\n",
              "      <td>1</td>\n",
              "      <td>1</td>\n",
              "      <td>1</td>\n",
              "      <td>150</td>\n",
              "    </tr>\n",
              "    <tr>\n",
              "      <th>29</th>\n",
              "      <td>1</td>\n",
              "      <td>0</td>\n",
              "      <td>1</td>\n",
              "      <td>1</td>\n",
              "      <td>0</td>\n",
              "      <td>100</td>\n",
              "    </tr>\n",
              "    <tr>\n",
              "      <th>30</th>\n",
              "      <td>0</td>\n",
              "      <td>1</td>\n",
              "      <td>0</td>\n",
              "      <td>3</td>\n",
              "      <td>0</td>\n",
              "      <td>100</td>\n",
              "    </tr>\n",
              "    <tr>\n",
              "      <th>31</th>\n",
              "      <td>1</td>\n",
              "      <td>0</td>\n",
              "      <td>1</td>\n",
              "      <td>2</td>\n",
              "      <td>0</td>\n",
              "      <td>250</td>\n",
              "    </tr>\n",
              "    <tr>\n",
              "      <th>32</th>\n",
              "      <td>0</td>\n",
              "      <td>0</td>\n",
              "      <td>1</td>\n",
              "      <td>3</td>\n",
              "      <td>1</td>\n",
              "      <td>300</td>\n",
              "    </tr>\n",
              "    <tr>\n",
              "      <th>33</th>\n",
              "      <td>1</td>\n",
              "      <td>1</td>\n",
              "      <td>0</td>\n",
              "      <td>1</td>\n",
              "      <td>0</td>\n",
              "      <td>50</td>\n",
              "    </tr>\n",
              "  </tbody>\n",
              "</table>\n",
              "</div>\n",
              "      <button class=\"colab-df-convert\" onclick=\"convertToInteractive('df-05f0d7bf-e9cc-46d3-a2cc-8aed4bc7aae8')\"\n",
              "              title=\"Convert this dataframe to an interactive table.\"\n",
              "              style=\"display:none;\">\n",
              "        \n",
              "  <svg xmlns=\"http://www.w3.org/2000/svg\" height=\"24px\"viewBox=\"0 0 24 24\"\n",
              "       width=\"24px\">\n",
              "    <path d=\"M0 0h24v24H0V0z\" fill=\"none\"/>\n",
              "    <path d=\"M18.56 5.44l.94 2.06.94-2.06 2.06-.94-2.06-.94-.94-2.06-.94 2.06-2.06.94zm-11 1L8.5 8.5l.94-2.06 2.06-.94-2.06-.94L8.5 2.5l-.94 2.06-2.06.94zm10 10l.94 2.06.94-2.06 2.06-.94-2.06-.94-.94-2.06-.94 2.06-2.06.94z\"/><path d=\"M17.41 7.96l-1.37-1.37c-.4-.4-.92-.59-1.43-.59-.52 0-1.04.2-1.43.59L10.3 9.45l-7.72 7.72c-.78.78-.78 2.05 0 2.83L4 21.41c.39.39.9.59 1.41.59.51 0 1.02-.2 1.41-.59l7.78-7.78 2.81-2.81c.8-.78.8-2.07 0-2.86zM5.41 20L4 18.59l7.72-7.72 1.47 1.35L5.41 20z\"/>\n",
              "  </svg>\n",
              "      </button>\n",
              "      \n",
              "  <style>\n",
              "    .colab-df-container {\n",
              "      display:flex;\n",
              "      flex-wrap:wrap;\n",
              "      gap: 12px;\n",
              "    }\n",
              "\n",
              "    .colab-df-convert {\n",
              "      background-color: #E8F0FE;\n",
              "      border: none;\n",
              "      border-radius: 50%;\n",
              "      cursor: pointer;\n",
              "      display: none;\n",
              "      fill: #1967D2;\n",
              "      height: 32px;\n",
              "      padding: 0 0 0 0;\n",
              "      width: 32px;\n",
              "    }\n",
              "\n",
              "    .colab-df-convert:hover {\n",
              "      background-color: #E2EBFA;\n",
              "      box-shadow: 0px 1px 2px rgba(60, 64, 67, 0.3), 0px 1px 3px 1px rgba(60, 64, 67, 0.15);\n",
              "      fill: #174EA6;\n",
              "    }\n",
              "\n",
              "    [theme=dark] .colab-df-convert {\n",
              "      background-color: #3B4455;\n",
              "      fill: #D2E3FC;\n",
              "    }\n",
              "\n",
              "    [theme=dark] .colab-df-convert:hover {\n",
              "      background-color: #434B5C;\n",
              "      box-shadow: 0px 1px 3px 1px rgba(0, 0, 0, 0.15);\n",
              "      filter: drop-shadow(0px 1px 2px rgba(0, 0, 0, 0.3));\n",
              "      fill: #FFFFFF;\n",
              "    }\n",
              "  </style>\n",
              "\n",
              "      <script>\n",
              "        const buttonEl =\n",
              "          document.querySelector('#df-05f0d7bf-e9cc-46d3-a2cc-8aed4bc7aae8 button.colab-df-convert');\n",
              "        buttonEl.style.display =\n",
              "          google.colab.kernel.accessAllowed ? 'block' : 'none';\n",
              "\n",
              "        async function convertToInteractive(key) {\n",
              "          const element = document.querySelector('#df-05f0d7bf-e9cc-46d3-a2cc-8aed4bc7aae8');\n",
              "          const dataTable =\n",
              "            await google.colab.kernel.invokeFunction('convertToInteractive',\n",
              "                                                     [key], {});\n",
              "          if (!dataTable) return;\n",
              "\n",
              "          const docLinkHtml = 'Like what you see? Visit the ' +\n",
              "            '<a target=\"_blank\" href=https://colab.research.google.com/notebooks/data_table.ipynb>data table notebook</a>'\n",
              "            + ' to learn more about interactive tables.';\n",
              "          element.innerHTML = '';\n",
              "          dataTable['output_type'] = 'display_data';\n",
              "          await google.colab.output.renderOutput(dataTable, element);\n",
              "          const docLink = document.createElement('div');\n",
              "          docLink.innerHTML = docLinkHtml;\n",
              "          element.appendChild(docLink);\n",
              "        }\n",
              "      </script>\n",
              "    </div>\n",
              "  </div>\n",
              "  "
            ]
          },
          "metadata": {},
          "execution_count": 3
        }
      ]
    },
    {
      "cell_type": "markdown",
      "metadata": {
        "id": "tf9CWKO_ANYh"
      },
      "source": [
        "Step No. 4 : Dependent and Non-dependent"
      ]
    },
    {
      "cell_type": "code",
      "metadata": {
        "id": "mz3IoJDY8CZv"
      },
      "source": [
        "#Differentiating Dependent and non-dependent attributes in x and y\n",
        "\n",
        "x=dataset.iloc[:,:-1].values\n",
        "y=dataset.iloc[:,-1].values"
      ],
      "execution_count": null,
      "outputs": []
    },
    {
      "cell_type": "code",
      "metadata": {
        "colab": {
          "base_uri": "https://localhost:8080/"
        },
        "id": "Ww6oPv0Z8PTu",
        "outputId": "d952bcf9-1803-443c-f6a4-6316ac82fdd0"
      },
      "source": [
        "x"
      ],
      "execution_count": null,
      "outputs": [
        {
          "output_type": "execute_result",
          "data": {
            "text/plain": [
              "array([[0, 1, 0, 0, 0],\n",
              "       [1, 1, 0, 3, 0],\n",
              "       [0, 1, 0, 1, 0],\n",
              "       [1, 1, 0, 1, 0],\n",
              "       [0, 0, 1, 2, 1],\n",
              "       [1, 0, 1, 3, 1],\n",
              "       [0, 0, 1, 0, 0],\n",
              "       [1, 0, 1, 0, 0],\n",
              "       [0, 0, 1, 1, 1],\n",
              "       [1, 0, 1, 1, 0],\n",
              "       [1, 0, 1, 1, 0],\n",
              "       [0, 0, 1, 1, 1],\n",
              "       [1, 0, 1, 1, 0],\n",
              "       [0, 0, 1, 1, 0],\n",
              "       [1, 0, 1, 3, 1],\n",
              "       [0, 0, 1, 0, 1],\n",
              "       [0, 1, 0, 0, 0],\n",
              "       [1, 1, 0, 3, 0],\n",
              "       [0, 1, 0, 1, 0],\n",
              "       [1, 1, 0, 1, 0],\n",
              "       [0, 0, 1, 3, 1],\n",
              "       [0, 1, 0, 0, 0],\n",
              "       [1, 0, 1, 3, 1],\n",
              "       [1, 1, 0, 2, 0],\n",
              "       [0, 0, 1, 3, 0],\n",
              "       [0, 1, 0, 1, 0],\n",
              "       [1, 0, 1, 0, 0],\n",
              "       [1, 1, 0, 1, 0],\n",
              "       [0, 0, 1, 1, 1],\n",
              "       [1, 0, 1, 1, 0],\n",
              "       [0, 1, 0, 3, 0],\n",
              "       [1, 0, 1, 2, 0],\n",
              "       [0, 0, 1, 3, 1],\n",
              "       [1, 1, 0, 1, 0]])"
            ]
          },
          "metadata": {},
          "execution_count": 5
        }
      ]
    },
    {
      "cell_type": "code",
      "metadata": {
        "colab": {
          "base_uri": "https://localhost:8080/"
        },
        "id": "N5uUjwyM8Tp-",
        "outputId": "184a8be2-3dfb-46d2-ea81-6d47ee2ef155"
      },
      "source": [
        "y"
      ],
      "execution_count": null,
      "outputs": [
        {
          "output_type": "execute_result",
          "data": {
            "text/plain": [
              "array([100,  70,  70,  50, 300, 250, 200, 150, 150, 100, 100, 150, 150,\n",
              "       200, 250, 300, 100,  70,  70,  50, 300, 100, 250,  70, 200,  70,\n",
              "       150,  50, 150, 100, 100, 250, 300,  50])"
            ]
          },
          "metadata": {},
          "execution_count": 7
        }
      ]
    },
    {
      "cell_type": "markdown",
      "metadata": {
        "id": "HlxZfEgUAUr5"
      },
      "source": [
        "Step No.5 : Sliting"
      ]
    },
    {
      "cell_type": "code",
      "metadata": {
        "id": "qjXmaoIQ9j-O"
      },
      "source": [
        "#Spliting of data\n",
        "#Now we are giving data to train the model and to test\n",
        "\n",
        "from pandas.core.common import random_state\n",
        "from sklearn.model_selection import train_test_split\n",
        "xtrain,xtest,ytrain,ytest=train_test_split(x,y,test_size=0.25,random_state=1)"
      ],
      "execution_count": null,
      "outputs": []
    },
    {
      "cell_type": "code",
      "metadata": {
        "colab": {
          "base_uri": "https://localhost:8080/"
        },
        "id": "JbImu4jZ-Swc",
        "outputId": "48d253f0-16e5-4a69-d065-284198006ac8"
      },
      "source": [
        "xtrain"
      ],
      "execution_count": null,
      "outputs": [
        {
          "output_type": "execute_result",
          "data": {
            "text/plain": [
              "array([[0, 1, 0, 3, 0],\n",
              "       [1, 1, 0, 3, 0],\n",
              "       [1, 0, 1, 3, 1],\n",
              "       [0, 0, 1, 2, 1],\n",
              "       [0, 1, 0, 1, 0],\n",
              "       [0, 1, 0, 0, 0],\n",
              "       [1, 1, 0, 2, 0],\n",
              "       [1, 0, 1, 1, 0],\n",
              "       [1, 0, 1, 1, 0],\n",
              "       [0, 0, 1, 1, 1],\n",
              "       [0, 1, 0, 1, 0],\n",
              "       [0, 0, 1, 0, 0],\n",
              "       [0, 0, 1, 1, 0],\n",
              "       [1, 0, 1, 0, 0],\n",
              "       [1, 1, 0, 1, 0],\n",
              "       [1, 1, 0, 3, 0],\n",
              "       [0, 1, 0, 0, 0],\n",
              "       [0, 1, 0, 0, 0],\n",
              "       [0, 0, 1, 0, 1],\n",
              "       [1, 0, 1, 3, 1],\n",
              "       [0, 0, 1, 1, 1],\n",
              "       [1, 0, 1, 1, 0],\n",
              "       [1, 0, 1, 2, 0],\n",
              "       [0, 0, 1, 1, 1],\n",
              "       [1, 0, 1, 1, 0]])"
            ]
          },
          "metadata": {},
          "execution_count": 9
        }
      ]
    },
    {
      "cell_type": "code",
      "metadata": {
        "id": "WCenZGeL-aSy",
        "colab": {
          "base_uri": "https://localhost:8080/"
        },
        "outputId": "73384286-4711-4d28-caa4-997dae72eb87"
      },
      "source": [
        "xtest"
      ],
      "execution_count": null,
      "outputs": [
        {
          "output_type": "execute_result",
          "data": {
            "text/plain": [
              "array([[1, 0, 1, 3, 1],\n",
              "       [1, 1, 0, 1, 0],\n",
              "       [1, 1, 0, 1, 0],\n",
              "       [1, 1, 0, 1, 0],\n",
              "       [0, 0, 1, 3, 1],\n",
              "       [1, 0, 1, 0, 0],\n",
              "       [0, 0, 1, 3, 1],\n",
              "       [0, 1, 0, 1, 0],\n",
              "       [0, 0, 1, 3, 0]])"
            ]
          },
          "metadata": {},
          "execution_count": 10
        }
      ]
    },
    {
      "cell_type": "code",
      "metadata": {
        "colab": {
          "base_uri": "https://localhost:8080/"
        },
        "id": "oJo3Z270_CTS",
        "outputId": "f05a0dc4-062b-4b6d-a088-efb5ff9c333a"
      },
      "source": [
        "ytrain"
      ],
      "execution_count": null,
      "outputs": [
        {
          "output_type": "execute_result",
          "data": {
            "text/plain": [
              "array([100,  70, 250, 300,  70, 100,  70, 100, 100, 150,  70, 200, 200,\n",
              "       150,  50,  70, 100, 100, 300, 250, 150, 100, 250, 150, 150])"
            ]
          },
          "metadata": {},
          "execution_count": 11
        }
      ]
    },
    {
      "cell_type": "code",
      "metadata": {
        "id": "tt5mFDWi_IKu",
        "colab": {
          "base_uri": "https://localhost:8080/"
        },
        "outputId": "bfd27262-1eb2-4c35-e8a1-a1e54e94f3ea"
      },
      "source": [
        "ytest"
      ],
      "execution_count": null,
      "outputs": [
        {
          "output_type": "execute_result",
          "data": {
            "text/plain": [
              "array([250,  50,  50,  50, 300, 150, 300,  70, 200])"
            ]
          },
          "metadata": {},
          "execution_count": 12
        }
      ]
    },
    {
      "cell_type": "markdown",
      "metadata": {
        "id": "9fSAEJOUAZe_"
      },
      "source": [
        "Step No. 6 : Fiting Model and Accuracy Measurement"
      ]
    },
    {
      "cell_type": "code",
      "metadata": {
        "colab": {
          "base_uri": "https://localhost:8080/"
        },
        "id": "WLut0qfHcFUN",
        "outputId": "4a641271-dd15-4f9e-d3a6-f186cb76c8ec"
      },
      "source": [
        "# Fitting multiple linear Regression to the dataset\n",
        "\n",
        "from sklearn.linear_model import LinearRegression\n",
        "from sklearn.metrics import mean_squared_error, r2_score\n",
        "from sklearn.preprocessing import PolynomialFeatures\n",
        "\n",
        "\n",
        "model = LinearRegression()\n",
        "model.fit(xtrain, ytrain)\n",
        "y_pred = model.predict(xtest)\n",
        "\n",
        "rmse = np.sqrt(mean_squared_error(ytest,y_pred))\n",
        "\n",
        "#Checking accuracy of model\n",
        "\n",
        "r2 = r2_score(ytest,y_pred)\n",
        "print(rmse)\n",
        "print(\"Model Accuracy:\",r2*100,'%')\n"
      ],
      "execution_count": null,
      "outputs": [
        {
          "output_type": "stream",
          "name": "stdout",
          "text": [
            "27.124303300217335\n",
            "Model Accuracy: 92.90717041284258 %\n"
          ]
        }
      ]
    },
    {
      "cell_type": "markdown",
      "metadata": {
        "id": "XUbdcYmEA1EG"
      },
      "source": [
        "Step No.7 : Manual Prediction"
      ]
    },
    {
      "cell_type": "code",
      "metadata": {
        "colab": {
          "base_uri": "https://localhost:8080/"
        },
        "id": "wCH17iEMCzjU",
        "outputId": "6cb141c1-aa44-4fd9-e20f-363fd398d167"
      },
      "source": [
        "# Manually prediction of price  with sklearn library\n",
        "\n",
        "import numpy as np\n",
        "A=np.array([[0, 0, 0, 0, 0]])\n",
        "print (\"Ticket price is approximately:\",model.predict(A),'Rs')"
      ],
      "execution_count": null,
      "outputs": [
        {
          "output_type": "stream",
          "name": "stdout",
          "text": [
            "Ticket price is approximately: [122.57222978] Rs\n"
          ]
        }
      ]
    }
  ]
}